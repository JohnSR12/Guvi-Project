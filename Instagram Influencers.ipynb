{
 "cells": [
  {
   "cell_type": "code",
   "execution_count": 1,
   "id": "b14eed8c",
   "metadata": {},
   "outputs": [],
   "source": [
    "import numpy as np\n",
    "import pandas as pd\n",
    "import seaborn as sns\n",
    "import matplotlib.pyplot as plt\n",
    "\n",
    "import warnings\n",
    "warnings.filterwarnings(\"ignore\")"
   ]
  },
  {
   "cell_type": "code",
   "execution_count": 2,
   "id": "1af6ec03",
   "metadata": {},
   "outputs": [
    {
     "data": {
      "text/html": [
       "<div>\n",
       "<style scoped>\n",
       "    .dataframe tbody tr th:only-of-type {\n",
       "        vertical-align: middle;\n",
       "    }\n",
       "\n",
       "    .dataframe tbody tr th {\n",
       "        vertical-align: top;\n",
       "    }\n",
       "\n",
       "    .dataframe thead th {\n",
       "        text-align: right;\n",
       "    }\n",
       "</style>\n",
       "<table border=\"1\" class=\"dataframe\">\n",
       "  <thead>\n",
       "    <tr style=\"text-align: right;\">\n",
       "      <th></th>\n",
       "      <th>Rank</th>\n",
       "      <th>Channel Info</th>\n",
       "      <th>Influence Score</th>\n",
       "      <th>Followers</th>\n",
       "      <th>Avg. Likes</th>\n",
       "      <th>Posts</th>\n",
       "      <th>60-Day Eng Rate</th>\n",
       "      <th>New Post Avg. Likes</th>\n",
       "      <th>Total Likes</th>\n",
       "      <th>Country Or Region</th>\n",
       "    </tr>\n",
       "  </thead>\n",
       "  <tbody>\n",
       "    <tr>\n",
       "      <th>0</th>\n",
       "      <td>1</td>\n",
       "      <td>\\ncristiano</td>\n",
       "      <td>92</td>\n",
       "      <td>485.2m</td>\n",
       "      <td>8.7m</td>\n",
       "      <td>3.4k</td>\n",
       "      <td>0.013</td>\n",
       "      <td>6.3m</td>\n",
       "      <td>29.1b</td>\n",
       "      <td>Spain</td>\n",
       "    </tr>\n",
       "    <tr>\n",
       "      <th>1</th>\n",
       "      <td>2</td>\n",
       "      <td>kyliejenner</td>\n",
       "      <td>91</td>\n",
       "      <td>370.7m</td>\n",
       "      <td>8.2m</td>\n",
       "      <td>7.0k</td>\n",
       "      <td>0.014</td>\n",
       "      <td>5.0m</td>\n",
       "      <td>57.4b</td>\n",
       "      <td>United States</td>\n",
       "    </tr>\n",
       "    <tr>\n",
       "      <th>2</th>\n",
       "      <td>3</td>\n",
       "      <td>\\nleomessi</td>\n",
       "      <td>90</td>\n",
       "      <td>363.9m</td>\n",
       "      <td>6.7m</td>\n",
       "      <td>915</td>\n",
       "      <td>0.010</td>\n",
       "      <td>3.5m</td>\n",
       "      <td>6.1b</td>\n",
       "      <td>NaN</td>\n",
       "    </tr>\n",
       "    <tr>\n",
       "      <th>3</th>\n",
       "      <td>4</td>\n",
       "      <td>\\nselenagomez</td>\n",
       "      <td>93</td>\n",
       "      <td>348.8m</td>\n",
       "      <td>6.1m</td>\n",
       "      <td>1.9k</td>\n",
       "      <td>0.005</td>\n",
       "      <td>1.7m</td>\n",
       "      <td>11.4b</td>\n",
       "      <td>United States</td>\n",
       "    </tr>\n",
       "    <tr>\n",
       "      <th>4</th>\n",
       "      <td>5</td>\n",
       "      <td>\\ntherock</td>\n",
       "      <td>91</td>\n",
       "      <td>339.4m</td>\n",
       "      <td>1.8m</td>\n",
       "      <td>6.8k</td>\n",
       "      <td>0.003</td>\n",
       "      <td>932.0k</td>\n",
       "      <td>12.6b</td>\n",
       "      <td>United States</td>\n",
       "    </tr>\n",
       "    <tr>\n",
       "      <th>...</th>\n",
       "      <td>...</td>\n",
       "      <td>...</td>\n",
       "      <td>...</td>\n",
       "      <td>...</td>\n",
       "      <td>...</td>\n",
       "      <td>...</td>\n",
       "      <td>...</td>\n",
       "      <td>...</td>\n",
       "      <td>...</td>\n",
       "      <td>...</td>\n",
       "    </tr>\n",
       "    <tr>\n",
       "      <th>195</th>\n",
       "      <td>196</td>\n",
       "      <td>\\nkhabib_nurmagomedov</td>\n",
       "      <td>63</td>\n",
       "      <td>33.6m</td>\n",
       "      <td>680.6k</td>\n",
       "      <td>4.6k</td>\n",
       "      <td>0.009</td>\n",
       "      <td>305.7k</td>\n",
       "      <td>3.1b</td>\n",
       "      <td>Russia</td>\n",
       "    </tr>\n",
       "    <tr>\n",
       "      <th>196</th>\n",
       "      <td>197</td>\n",
       "      <td>\\ndanbilzerian</td>\n",
       "      <td>84</td>\n",
       "      <td>33.6m</td>\n",
       "      <td>2.2m</td>\n",
       "      <td>1.4k</td>\n",
       "      <td>0.064</td>\n",
       "      <td>2.1m</td>\n",
       "      <td>3.0b</td>\n",
       "      <td>Canada</td>\n",
       "    </tr>\n",
       "    <tr>\n",
       "      <th>197</th>\n",
       "      <td>198</td>\n",
       "      <td>\\nraisa6690</td>\n",
       "      <td>80</td>\n",
       "      <td>33.6m</td>\n",
       "      <td>227.8k</td>\n",
       "      <td>4.2k</td>\n",
       "      <td>0.003</td>\n",
       "      <td>103.2k</td>\n",
       "      <td>955.9m</td>\n",
       "      <td>Indonesia</td>\n",
       "    </tr>\n",
       "    <tr>\n",
       "      <th>198</th>\n",
       "      <td>199</td>\n",
       "      <td>\\nluansantana</td>\n",
       "      <td>79</td>\n",
       "      <td>33.5m</td>\n",
       "      <td>193.3k</td>\n",
       "      <td>865</td>\n",
       "      <td>0.003</td>\n",
       "      <td>82.6k</td>\n",
       "      <td>167.2m</td>\n",
       "      <td>Brazil</td>\n",
       "    </tr>\n",
       "    <tr>\n",
       "      <th>199</th>\n",
       "      <td>200</td>\n",
       "      <td>\\nnancyajram</td>\n",
       "      <td>81</td>\n",
       "      <td>33.4m</td>\n",
       "      <td>382.5k</td>\n",
       "      <td>3.8k</td>\n",
       "      <td>0.004</td>\n",
       "      <td>128.2k</td>\n",
       "      <td>1.5b</td>\n",
       "      <td>France</td>\n",
       "    </tr>\n",
       "  </tbody>\n",
       "</table>\n",
       "<p>200 rows × 10 columns</p>\n",
       "</div>"
      ],
      "text/plain": [
       "     Rank           Channel Info  Influence Score Followers Avg. Likes Posts  \\\n",
       "0       1            \\ncristiano               92    485.2m       8.7m  3.4k   \n",
       "1       2            kyliejenner               91    370.7m       8.2m  7.0k   \n",
       "2       3             \\nleomessi               90    363.9m       6.7m   915   \n",
       "3       4          \\nselenagomez               93    348.8m       6.1m  1.9k   \n",
       "4       5              \\ntherock               91    339.4m       1.8m  6.8k   \n",
       "..    ...                    ...              ...       ...        ...   ...   \n",
       "195   196  \\nkhabib_nurmagomedov               63     33.6m     680.6k  4.6k   \n",
       "196   197         \\ndanbilzerian               84     33.6m       2.2m  1.4k   \n",
       "197   198            \\nraisa6690               80     33.6m     227.8k  4.2k   \n",
       "198   199          \\nluansantana               79     33.5m     193.3k   865   \n",
       "199   200           \\nnancyajram               81     33.4m     382.5k  3.8k   \n",
       "\n",
       "     60-Day Eng Rate New Post Avg. Likes Total Likes Country Or Region  \n",
       "0              0.013                6.3m       29.1b             Spain  \n",
       "1              0.014                5.0m       57.4b     United States  \n",
       "2              0.010                3.5m        6.1b               NaN  \n",
       "3              0.005                1.7m       11.4b     United States  \n",
       "4              0.003              932.0k       12.6b     United States  \n",
       "..               ...                 ...         ...               ...  \n",
       "195            0.009              305.7k        3.1b            Russia  \n",
       "196            0.064                2.1m        3.0b            Canada  \n",
       "197            0.003              103.2k      955.9m         Indonesia  \n",
       "198            0.003               82.6k      167.2m            Brazil  \n",
       "199            0.004              128.2k        1.5b            France  \n",
       "\n",
       "[200 rows x 10 columns]"
      ]
     },
     "execution_count": 2,
     "metadata": {},
     "output_type": "execute_result"
    }
   ],
   "source": [
    "df = pd.read_excel('Influencer.xlsx')\n",
    "df"
   ]
  },
  {
   "cell_type": "code",
   "execution_count": 3,
   "id": "9c5c82b0",
   "metadata": {},
   "outputs": [
    {
     "name": "stdout",
     "output_type": "stream",
     "text": [
      "<class 'pandas.core.frame.DataFrame'>\n",
      "RangeIndex: 200 entries, 0 to 199\n",
      "Data columns (total 10 columns):\n",
      " #   Column               Non-Null Count  Dtype  \n",
      "---  ------               --------------  -----  \n",
      " 0   Rank                 200 non-null    int64  \n",
      " 1   Channel Info         200 non-null    object \n",
      " 2   Influence Score      200 non-null    int64  \n",
      " 3   Followers            200 non-null    object \n",
      " 4   Avg. Likes           200 non-null    object \n",
      " 5   Posts                200 non-null    object \n",
      " 6   60-Day Eng Rate      200 non-null    float64\n",
      " 7   New Post Avg. Likes  200 non-null    object \n",
      " 8   Total Likes          200 non-null    object \n",
      " 9   Country Or Region    137 non-null    object \n",
      "dtypes: float64(1), int64(2), object(7)\n",
      "memory usage: 15.8+ KB\n"
     ]
    }
   ],
   "source": [
    "df.info()"
   ]
  },
  {
   "cell_type": "code",
   "execution_count": 4,
   "id": "ba04b531",
   "metadata": {},
   "outputs": [
    {
     "data": {
      "text/plain": [
       "Rank                    0\n",
       "Channel Info            0\n",
       "Influence Score         0\n",
       "Followers               0\n",
       "Avg. Likes              0\n",
       "Posts                   0\n",
       "60-Day Eng Rate         0\n",
       "New Post Avg. Likes     0\n",
       "Total Likes             0\n",
       "Country Or Region      63\n",
       "dtype: int64"
      ]
     },
     "execution_count": 4,
     "metadata": {},
     "output_type": "execute_result"
    }
   ],
   "source": [
    "df.isnull().sum()"
   ]
  },
  {
   "cell_type": "code",
   "execution_count": 5,
   "id": "0ac77d08",
   "metadata": {},
   "outputs": [],
   "source": [
    "df[\"Country Or Region\"].fillna(\"Other\",inplace=True)"
   ]
  },
  {
   "cell_type": "markdown",
   "id": "e9d285a6",
   "metadata": {},
   "source": [
    "### Data Preprocessing"
   ]
  },
  {
   "cell_type": "markdown",
   "id": "b02e7866",
   "metadata": {},
   "source": [
    "#### Removing '\\n' from Channel Info column:"
   ]
  },
  {
   "cell_type": "code",
   "execution_count": 6,
   "id": "29b449be",
   "metadata": {},
   "outputs": [
    {
     "data": {
      "text/html": [
       "<div>\n",
       "<style scoped>\n",
       "    .dataframe tbody tr th:only-of-type {\n",
       "        vertical-align: middle;\n",
       "    }\n",
       "\n",
       "    .dataframe tbody tr th {\n",
       "        vertical-align: top;\n",
       "    }\n",
       "\n",
       "    .dataframe thead th {\n",
       "        text-align: right;\n",
       "    }\n",
       "</style>\n",
       "<table border=\"1\" class=\"dataframe\">\n",
       "  <thead>\n",
       "    <tr style=\"text-align: right;\">\n",
       "      <th></th>\n",
       "      <th>Rank</th>\n",
       "      <th>Channel Info</th>\n",
       "      <th>Influence Score</th>\n",
       "      <th>Followers</th>\n",
       "      <th>Avg. Likes</th>\n",
       "      <th>Posts</th>\n",
       "      <th>60-Day Eng Rate</th>\n",
       "      <th>New Post Avg. Likes</th>\n",
       "      <th>Total Likes</th>\n",
       "      <th>Country Or Region</th>\n",
       "    </tr>\n",
       "  </thead>\n",
       "  <tbody>\n",
       "    <tr>\n",
       "      <th>0</th>\n",
       "      <td>1</td>\n",
       "      <td>cristiano</td>\n",
       "      <td>92</td>\n",
       "      <td>485.2m</td>\n",
       "      <td>8.7m</td>\n",
       "      <td>3.4k</td>\n",
       "      <td>0.013</td>\n",
       "      <td>6.3m</td>\n",
       "      <td>29.1b</td>\n",
       "      <td>Spain</td>\n",
       "    </tr>\n",
       "    <tr>\n",
       "      <th>1</th>\n",
       "      <td>2</td>\n",
       "      <td>kyliejenner</td>\n",
       "      <td>91</td>\n",
       "      <td>370.7m</td>\n",
       "      <td>8.2m</td>\n",
       "      <td>7.0k</td>\n",
       "      <td>0.014</td>\n",
       "      <td>5.0m</td>\n",
       "      <td>57.4b</td>\n",
       "      <td>United States</td>\n",
       "    </tr>\n",
       "    <tr>\n",
       "      <th>2</th>\n",
       "      <td>3</td>\n",
       "      <td>leomessi</td>\n",
       "      <td>90</td>\n",
       "      <td>363.9m</td>\n",
       "      <td>6.7m</td>\n",
       "      <td>915</td>\n",
       "      <td>0.010</td>\n",
       "      <td>3.5m</td>\n",
       "      <td>6.1b</td>\n",
       "      <td>Other</td>\n",
       "    </tr>\n",
       "    <tr>\n",
       "      <th>3</th>\n",
       "      <td>4</td>\n",
       "      <td>selenagomez</td>\n",
       "      <td>93</td>\n",
       "      <td>348.8m</td>\n",
       "      <td>6.1m</td>\n",
       "      <td>1.9k</td>\n",
       "      <td>0.005</td>\n",
       "      <td>1.7m</td>\n",
       "      <td>11.4b</td>\n",
       "      <td>United States</td>\n",
       "    </tr>\n",
       "    <tr>\n",
       "      <th>4</th>\n",
       "      <td>5</td>\n",
       "      <td>therock</td>\n",
       "      <td>91</td>\n",
       "      <td>339.4m</td>\n",
       "      <td>1.8m</td>\n",
       "      <td>6.8k</td>\n",
       "      <td>0.003</td>\n",
       "      <td>932.0k</td>\n",
       "      <td>12.6b</td>\n",
       "      <td>United States</td>\n",
       "    </tr>\n",
       "  </tbody>\n",
       "</table>\n",
       "</div>"
      ],
      "text/plain": [
       "   Rank Channel Info  Influence Score Followers Avg. Likes Posts  \\\n",
       "0     1    cristiano               92    485.2m       8.7m  3.4k   \n",
       "1     2  kyliejenner               91    370.7m       8.2m  7.0k   \n",
       "2     3     leomessi               90    363.9m       6.7m   915   \n",
       "3     4  selenagomez               93    348.8m       6.1m  1.9k   \n",
       "4     5      therock               91    339.4m       1.8m  6.8k   \n",
       "\n",
       "   60-Day Eng Rate New Post Avg. Likes Total Likes Country Or Region  \n",
       "0            0.013                6.3m       29.1b             Spain  \n",
       "1            0.014                5.0m       57.4b     United States  \n",
       "2            0.010                3.5m        6.1b             Other  \n",
       "3            0.005                1.7m       11.4b     United States  \n",
       "4            0.003              932.0k       12.6b     United States  "
      ]
     },
     "execution_count": 6,
     "metadata": {},
     "output_type": "execute_result"
    }
   ],
   "source": [
    "df[\"Channel Info\"]=df[\"Channel Info\"].astype(\"str\")\n",
    "df[\"Channel Info\"]=df[\"Channel Info\"].apply(lambda x: x.strip(\"\\n\"))\n",
    "df.head()"
   ]
  },
  {
   "cell_type": "markdown",
   "id": "606022a4",
   "metadata": {},
   "source": [
    "#### Removing abbreviation for b-billion,m-million,k-thousand and multiplying the columns with actual values where ever applicable"
   ]
  },
  {
   "cell_type": "markdown",
   "id": "b69da4c9",
   "metadata": {},
   "source": [
    "#### Followers column:"
   ]
  },
  {
   "cell_type": "code",
   "execution_count": 7,
   "id": "0b4defc6",
   "metadata": {},
   "outputs": [],
   "source": [
    "follow = list(df['Followers'])\n",
    "new_follow = []\n",
    "\n",
    "for num in follow:\n",
    "    if 'm' in num:\n",
    "        new_num = 1000000*float(num.replace('m',''))\n",
    "        new_follow.append(new_num)\n",
    "    else:\n",
    "        new_follow.append(float(new_num))\n",
    "df['Followers']=new_follow"
   ]
  },
  {
   "cell_type": "markdown",
   "id": "75b3db67",
   "metadata": {},
   "source": [
    "#### Avg. Likes column:"
   ]
  },
  {
   "cell_type": "code",
   "execution_count": 8,
   "id": "f0653fea",
   "metadata": {},
   "outputs": [],
   "source": [
    "avglikes = list(df['Avg. Likes'])\n",
    "new_avglikes = []\n",
    "\n",
    "for num in avglikes:\n",
    "    if 'm' in num:\n",
    "        new_num = 1000000*float(num.replace('m',''))\n",
    "        new_avglikes.append(new_num)\n",
    "    else:\n",
    "        new_num = 1000*float(num.replace('k',''))\n",
    "        new_avglikes.append(new_num)\n",
    "df['Avg. Likes']=new_avglikes"
   ]
  },
  {
   "cell_type": "markdown",
   "id": "30d24c27",
   "metadata": {},
   "source": [
    "#### Posts column:"
   ]
  },
  {
   "cell_type": "code",
   "execution_count": 9,
   "id": "115ab392",
   "metadata": {},
   "outputs": [],
   "source": [
    "post = list(df['Posts'].astype(\"str\"))   #change type to string as int values are present\n",
    "new_post = []\n",
    "\n",
    "for num in post:\n",
    "    if 'k' in num:\n",
    "        new_num = 1000*float(num.replace('k',''))\n",
    "        new_post.append(new_num)\n",
    "    else:\n",
    "        new_post.append(float(num))\n",
    "df['Posts']=new_post"
   ]
  },
  {
   "cell_type": "markdown",
   "id": "3ca2fd7f",
   "metadata": {},
   "source": [
    "#### New Post Avg. Likes column:"
   ]
  },
  {
   "cell_type": "code",
   "execution_count": 10,
   "id": "c713298f",
   "metadata": {},
   "outputs": [],
   "source": [
    "post_avg_likes = list(df['New Post Avg. Likes'].astype(\"str\"))\n",
    "new_post_avg_likes = []\n",
    "\n",
    "for num in post_avg_likes:\n",
    "    if 'm' in num:\n",
    "        new_num = 1000000*float(num.replace('m',''))\n",
    "        new_post_avg_likes.append(new_num)\n",
    "    else:\n",
    "        new_num = 1000*float(num.replace('k',''))\n",
    "        new_post_avg_likes.append(new_num)\n",
    "df['New Post Avg. Likes']=new_post_avg_likes"
   ]
  },
  {
   "cell_type": "markdown",
   "id": "d17cf7c5",
   "metadata": {},
   "source": [
    "#### Total Likes column:"
   ]
  },
  {
   "cell_type": "code",
   "execution_count": 11,
   "id": "77a6430d",
   "metadata": {},
   "outputs": [],
   "source": [
    "total_likes = list(df['Total Likes'])\n",
    "new_total_likes = []\n",
    "\n",
    "for num in total_likes:\n",
    "    if 'b' in num:\n",
    "        new_num = 1000000000*float(num.replace('b',''))\n",
    "        new_total_likes.append(new_num)\n",
    "    else:\n",
    "        new_num = 1000000*float(num.replace('m',''))\n",
    "        new_total_likes.append(new_num)\n",
    "df['Total Likes']=new_total_likes"
   ]
  },
  {
   "cell_type": "markdown",
   "id": "b0f70226",
   "metadata": {},
   "source": [
    "#### Cleaned data"
   ]
  },
  {
   "cell_type": "code",
   "execution_count": 12,
   "id": "8829841a",
   "metadata": {},
   "outputs": [
    {
     "data": {
      "text/html": [
       "<div>\n",
       "<style scoped>\n",
       "    .dataframe tbody tr th:only-of-type {\n",
       "        vertical-align: middle;\n",
       "    }\n",
       "\n",
       "    .dataframe tbody tr th {\n",
       "        vertical-align: top;\n",
       "    }\n",
       "\n",
       "    .dataframe thead th {\n",
       "        text-align: right;\n",
       "    }\n",
       "</style>\n",
       "<table border=\"1\" class=\"dataframe\">\n",
       "  <thead>\n",
       "    <tr style=\"text-align: right;\">\n",
       "      <th></th>\n",
       "      <th>Rank</th>\n",
       "      <th>Channel Info</th>\n",
       "      <th>Influence Score</th>\n",
       "      <th>Followers</th>\n",
       "      <th>Avg. Likes</th>\n",
       "      <th>Posts</th>\n",
       "      <th>60-Day Eng Rate</th>\n",
       "      <th>New Post Avg. Likes</th>\n",
       "      <th>Total Likes</th>\n",
       "      <th>Country Or Region</th>\n",
       "    </tr>\n",
       "  </thead>\n",
       "  <tbody>\n",
       "    <tr>\n",
       "      <th>0</th>\n",
       "      <td>1</td>\n",
       "      <td>cristiano</td>\n",
       "      <td>92</td>\n",
       "      <td>485200000.0</td>\n",
       "      <td>8700000.0</td>\n",
       "      <td>3400.0</td>\n",
       "      <td>0.013</td>\n",
       "      <td>6300000.0</td>\n",
       "      <td>2.910000e+10</td>\n",
       "      <td>Spain</td>\n",
       "    </tr>\n",
       "    <tr>\n",
       "      <th>1</th>\n",
       "      <td>2</td>\n",
       "      <td>kyliejenner</td>\n",
       "      <td>91</td>\n",
       "      <td>370700000.0</td>\n",
       "      <td>8200000.0</td>\n",
       "      <td>7000.0</td>\n",
       "      <td>0.014</td>\n",
       "      <td>5000000.0</td>\n",
       "      <td>5.740000e+10</td>\n",
       "      <td>United States</td>\n",
       "    </tr>\n",
       "    <tr>\n",
       "      <th>2</th>\n",
       "      <td>3</td>\n",
       "      <td>leomessi</td>\n",
       "      <td>90</td>\n",
       "      <td>363900000.0</td>\n",
       "      <td>6700000.0</td>\n",
       "      <td>915.0</td>\n",
       "      <td>0.010</td>\n",
       "      <td>3500000.0</td>\n",
       "      <td>6.100000e+09</td>\n",
       "      <td>Other</td>\n",
       "    </tr>\n",
       "    <tr>\n",
       "      <th>3</th>\n",
       "      <td>4</td>\n",
       "      <td>selenagomez</td>\n",
       "      <td>93</td>\n",
       "      <td>348800000.0</td>\n",
       "      <td>6100000.0</td>\n",
       "      <td>1900.0</td>\n",
       "      <td>0.005</td>\n",
       "      <td>1700000.0</td>\n",
       "      <td>1.140000e+10</td>\n",
       "      <td>United States</td>\n",
       "    </tr>\n",
       "    <tr>\n",
       "      <th>4</th>\n",
       "      <td>5</td>\n",
       "      <td>therock</td>\n",
       "      <td>91</td>\n",
       "      <td>339400000.0</td>\n",
       "      <td>1800000.0</td>\n",
       "      <td>6800.0</td>\n",
       "      <td>0.003</td>\n",
       "      <td>932000.0</td>\n",
       "      <td>1.260000e+10</td>\n",
       "      <td>United States</td>\n",
       "    </tr>\n",
       "    <tr>\n",
       "      <th>...</th>\n",
       "      <td>...</td>\n",
       "      <td>...</td>\n",
       "      <td>...</td>\n",
       "      <td>...</td>\n",
       "      <td>...</td>\n",
       "      <td>...</td>\n",
       "      <td>...</td>\n",
       "      <td>...</td>\n",
       "      <td>...</td>\n",
       "      <td>...</td>\n",
       "    </tr>\n",
       "    <tr>\n",
       "      <th>195</th>\n",
       "      <td>196</td>\n",
       "      <td>khabib_nurmagomedov</td>\n",
       "      <td>63</td>\n",
       "      <td>33600000.0</td>\n",
       "      <td>680600.0</td>\n",
       "      <td>4600.0</td>\n",
       "      <td>0.009</td>\n",
       "      <td>305700.0</td>\n",
       "      <td>3.100000e+09</td>\n",
       "      <td>Russia</td>\n",
       "    </tr>\n",
       "    <tr>\n",
       "      <th>196</th>\n",
       "      <td>197</td>\n",
       "      <td>danbilzerian</td>\n",
       "      <td>84</td>\n",
       "      <td>33600000.0</td>\n",
       "      <td>2200000.0</td>\n",
       "      <td>1400.0</td>\n",
       "      <td>0.064</td>\n",
       "      <td>2100000.0</td>\n",
       "      <td>3.000000e+09</td>\n",
       "      <td>Canada</td>\n",
       "    </tr>\n",
       "    <tr>\n",
       "      <th>197</th>\n",
       "      <td>198</td>\n",
       "      <td>raisa6690</td>\n",
       "      <td>80</td>\n",
       "      <td>33600000.0</td>\n",
       "      <td>227800.0</td>\n",
       "      <td>4200.0</td>\n",
       "      <td>0.003</td>\n",
       "      <td>103200.0</td>\n",
       "      <td>9.559000e+08</td>\n",
       "      <td>Indonesia</td>\n",
       "    </tr>\n",
       "    <tr>\n",
       "      <th>198</th>\n",
       "      <td>199</td>\n",
       "      <td>luansantana</td>\n",
       "      <td>79</td>\n",
       "      <td>33500000.0</td>\n",
       "      <td>193300.0</td>\n",
       "      <td>865.0</td>\n",
       "      <td>0.003</td>\n",
       "      <td>82600.0</td>\n",
       "      <td>1.672000e+08</td>\n",
       "      <td>Brazil</td>\n",
       "    </tr>\n",
       "    <tr>\n",
       "      <th>199</th>\n",
       "      <td>200</td>\n",
       "      <td>nancyajram</td>\n",
       "      <td>81</td>\n",
       "      <td>33400000.0</td>\n",
       "      <td>382500.0</td>\n",
       "      <td>3800.0</td>\n",
       "      <td>0.004</td>\n",
       "      <td>128200.0</td>\n",
       "      <td>1.500000e+09</td>\n",
       "      <td>France</td>\n",
       "    </tr>\n",
       "  </tbody>\n",
       "</table>\n",
       "<p>200 rows × 10 columns</p>\n",
       "</div>"
      ],
      "text/plain": [
       "     Rank         Channel Info  Influence Score    Followers  Avg. Likes  \\\n",
       "0       1            cristiano               92  485200000.0   8700000.0   \n",
       "1       2          kyliejenner               91  370700000.0   8200000.0   \n",
       "2       3             leomessi               90  363900000.0   6700000.0   \n",
       "3       4          selenagomez               93  348800000.0   6100000.0   \n",
       "4       5              therock               91  339400000.0   1800000.0   \n",
       "..    ...                  ...              ...          ...         ...   \n",
       "195   196  khabib_nurmagomedov               63   33600000.0    680600.0   \n",
       "196   197         danbilzerian               84   33600000.0   2200000.0   \n",
       "197   198            raisa6690               80   33600000.0    227800.0   \n",
       "198   199          luansantana               79   33500000.0    193300.0   \n",
       "199   200           nancyajram               81   33400000.0    382500.0   \n",
       "\n",
       "      Posts  60-Day Eng Rate  New Post Avg. Likes   Total Likes  \\\n",
       "0    3400.0            0.013            6300000.0  2.910000e+10   \n",
       "1    7000.0            0.014            5000000.0  5.740000e+10   \n",
       "2     915.0            0.010            3500000.0  6.100000e+09   \n",
       "3    1900.0            0.005            1700000.0  1.140000e+10   \n",
       "4    6800.0            0.003             932000.0  1.260000e+10   \n",
       "..      ...              ...                  ...           ...   \n",
       "195  4600.0            0.009             305700.0  3.100000e+09   \n",
       "196  1400.0            0.064            2100000.0  3.000000e+09   \n",
       "197  4200.0            0.003             103200.0  9.559000e+08   \n",
       "198   865.0            0.003              82600.0  1.672000e+08   \n",
       "199  3800.0            0.004             128200.0  1.500000e+09   \n",
       "\n",
       "    Country Or Region  \n",
       "0               Spain  \n",
       "1       United States  \n",
       "2               Other  \n",
       "3       United States  \n",
       "4       United States  \n",
       "..                ...  \n",
       "195            Russia  \n",
       "196            Canada  \n",
       "197         Indonesia  \n",
       "198            Brazil  \n",
       "199            France  \n",
       "\n",
       "[200 rows x 10 columns]"
      ]
     },
     "execution_count": 12,
     "metadata": {},
     "output_type": "execute_result"
    }
   ],
   "source": [
    "df"
   ]
  },
  {
   "cell_type": "markdown",
   "id": "785834ab",
   "metadata": {},
   "source": [
    "### 1. Are there any correlated features in the given dataset? If yes, state the correlation coefficient of the pair of features which are highly correlated."
   ]
  },
  {
   "cell_type": "code",
   "execution_count": 13,
   "id": "227dcbb3",
   "metadata": {},
   "outputs": [],
   "source": [
    "matrix = df.corr()"
   ]
  },
  {
   "cell_type": "code",
   "execution_count": 14,
   "id": "36db5c46",
   "metadata": {},
   "outputs": [
    {
     "data": {
      "image/png": "[encoded data removed]",
      "text/plain": [
       "<Figure size 1152x864 with 2 Axes>"
      ]
     },
     "metadata": {
      "needs_background": "light"
     },
     "output_type": "display_data"
    }
   ],
   "source": [
    "plt.figure(figsize=(16,12))\n",
    "\n",
    "# Create a custom diverging palette\n",
    "cmap = sns.diverging_palette(250, 15, s=75, l=40,\n",
    "                             n=9, center=\"light\", as_cmap=True)\n",
    "\n",
    "_ = sns.heatmap(matrix, center=0, annot=True, \n",
    "                fmt='.2f', square=True, cmap=cmap)"
   ]
  },
  {
   "cell_type": "code",
   "execution_count": 18,
   "id": "8f991959",
   "metadata": {},
   "outputs": [
    {
     "data": {
      "text/plain": [
       "Total Likes          Followers              0.667546\n",
       "Followers            Total Likes            0.667546\n",
       "Avg. Likes           60-Day Eng Rate        0.789359\n",
       "60-Day Eng Rate      Avg. Likes             0.789359\n",
       "                     New Post Avg. Likes    0.866293\n",
       "New Post Avg. Likes  60-Day Eng Rate        0.866293\n",
       "Avg. Likes           New Post Avg. Likes    0.892784\n",
       "New Post Avg. Likes  Avg. Likes             0.892784\n",
       "Rank                 Rank                   1.000000\n",
       "dtype: float64"
      ]
     },
     "execution_count": 18,
     "metadata": {},
     "output_type": "execute_result"
    }
   ],
   "source": [
    "unstack_matrix = matrix.unstack()\n",
    "sorted_pairs = unstack_matrix.sort_values(kind=\"quicksort\")\n",
    "strong_pairs = sorted_pairs[(sorted_pairs) > 0.6]\n",
    "strong_pairs.head(9)"
   ]
  },
  {
   "cell_type": "markdown",
   "id": "38b78498",
   "metadata": {},
   "source": [
    "### 2. What is the frequency distribution of the following features?\n",
    "- Influence Score\n",
    "- Followers\n",
    "- Posts"
   ]
  },
  {
   "cell_type": "code",
   "execution_count": 19,
   "id": "596c34a0",
   "metadata": {},
   "outputs": [
    {
     "data": {
      "image/png": "[encoded data removed]",
      "text/plain": [
       "<Figure size 864x576 with 1 Axes>"
      ]
     },
     "metadata": {
      "needs_background": "light"
     },
     "output_type": "display_data"
    }
   ],
   "source": [
    "data = df[\"Influence Score\"]\n",
    "\n",
    "plt.figure(figsize=(12,8))\n",
    "plt.hist(data, bins=30, rwidth=0.9,color='steelblue')\n",
    "plt.title('Frequency distribution of Influence Score')\n",
    "plt.xlabel('Influence Score')\n",
    "plt.ylabel('Frequency')\n",
    "plt.grid(axis='y', alpha=0.75)"
   ]
  },
  {
   "cell_type": "code",
   "execution_count": 20,
   "id": "fbc9f383",
   "metadata": {},
   "outputs": [
    {
     "data": {
      "image/png": "[encoded data removed]",
      "text/plain": [
       "<Figure size 864x576 with 1 Axes>"
      ]
     },
     "metadata": {
      "needs_background": "light"
     },
     "output_type": "display_data"
    }
   ],
   "source": [
    "data = df[\"Followers\"]\n",
    "\n",
    "plt.figure(figsize=(12,8))\n",
    "plt.hist(data, bins=30, rwidth=0.9,color='rosybrown')\n",
    "plt.title('Frequency distribution of Followers')\n",
    "plt.xlabel('Followers')\n",
    "plt.ylabel('Frequency')\n",
    "plt.grid(axis='y', alpha=0.75)"
   ]
  },
  {
   "cell_type": "code",
   "execution_count": 21,
   "id": "85e691cb",
   "metadata": {},
   "outputs": [
    {
     "data": {
      "image/png": "[encoded data removed]",
      "text/plain": [
       "<Figure size 864x576 with 1 Axes>"
      ]
     },
     "metadata": {
      "needs_background": "light"
     },
     "output_type": "display_data"
    }
   ],
   "source": [
    "data = df[\"Posts\"]\n",
    "\n",
    "plt.figure(figsize=(12,8))\n",
    "plt.hist(data, bins=30, rwidth=0.9,color='thistle')\n",
    "plt.title('Frequency distribution of Posts')\n",
    "plt.xlabel('Posts')\n",
    "plt.ylabel('Frequency')\n",
    "plt.grid(axis='y', alpha=0.75)"
   ]
  },
  {
   "cell_type": "markdown",
   "id": "76e22071",
   "metadata": {},
   "source": [
    "### 3. Which country houses the highest number of Instagram Influencers? Please show the count of Instagram influencers in different countries using barchart."
   ]
  },
  {
   "cell_type": "code",
   "execution_count": 22,
   "id": "e9921ee1",
   "metadata": {},
   "outputs": [
    {
     "data": {
      "text/plain": [
       "United States    65\n",
       "Other            63\n",
       "Brazil           13\n",
       "India            12\n",
       "Indonesia         7\n",
       "Name: Country Or Region, dtype: int64"
      ]
     },
     "execution_count": 22,
     "metadata": {},
     "output_type": "execute_result"
    }
   ],
   "source": [
    "data = df[\"Country Or Region\"].value_counts()\n",
    "data.head(5)"
   ]
  },
  {
   "cell_type": "code",
   "execution_count": 23,
   "id": "d1bfe912",
   "metadata": {},
   "outputs": [
    {
     "data": {
      "text/plain": [
       "Text(0, 0.5, 'Count')"
      ]
     },
     "execution_count": 23,
     "metadata": {},
     "output_type": "execute_result"
    },
    {
     "data": {
      "image/png": "[encoded data removed]",
      "text/plain": [
       "<Figure size 864x576 with 1 Axes>"
      ]
     },
     "metadata": {
      "needs_background": "light"
     },
     "output_type": "display_data"
    }
   ],
   "source": [
    "data.plot(kind='bar',figsize=(12,8))\n",
    "plt.title('All countries')\n",
    "plt.xlabel('Countries')\n",
    "plt.ylabel('Count')"
   ]
  },
  {
   "cell_type": "markdown",
   "id": "2a4a0f6a",
   "metadata": {},
   "source": [
    "### 4. Who are the top 10 influencers in the given dataset based on the following features\n",
    "- Followers\n",
    "- Average likes\n",
    "- Total Likes"
   ]
  },
  {
   "cell_type": "code",
   "execution_count": 24,
   "id": "0049f7cf",
   "metadata": {},
   "outputs": [
    {
     "name": "stdout",
     "output_type": "stream",
     "text": [
      "   Channel Info   Followers\n",
      "      cristiano 485200000.0\n",
      "    kyliejenner 370700000.0\n",
      "       leomessi 363900000.0\n",
      "    selenagomez 348800000.0\n",
      "        therock 339400000.0\n",
      "   arianagrande 333000000.0\n",
      "  kimkardashian 330700000.0\n",
      "        beyonce 276100000.0\n",
      "khloekardashian 273900000.0\n",
      "   justinbieber 260000000.0\n"
     ]
    }
   ],
   "source": [
    "top_10 = df.sort_values([\"Followers\"],ascending=False)[[\"Channel Info\",\"Followers\"]].head(10)\n",
    "print(top_10.to_string(index=False))"
   ]
  },
  {
   "cell_type": "code",
   "execution_count": 25,
   "id": "bdcc81ce",
   "metadata": {},
   "outputs": [
    {
     "name": "stdout",
     "output_type": "stream",
     "text": [
      "Channel Info  Avg. Likes\n",
      "         thv  15400000.0\n",
      "         j.m  14400000.0\n",
      "       rkive  10600000.0\n",
      "   cristiano   8700000.0\n",
      "billieeilish   8400000.0\n",
      " kyliejenner   8200000.0\n",
      "    leomessi   6700000.0\n",
      " selenagomez   6100000.0\n",
      "lalalalisa_m   6000000.0\n",
      "     zendaya   5900000.0\n"
     ]
    }
   ],
   "source": [
    "top_10 = df.sort_values([\"Avg. Likes\"],ascending=False)[[\"Channel Info\",\"Avg. Likes\"]].head(10)\n",
    "print(top_10.to_string(index=False))"
   ]
  },
  {
   "cell_type": "code",
   "execution_count": 26,
   "id": "f7e5340c",
   "metadata": {},
   "outputs": [
    {
     "name": "stdout",
     "output_type": "stream",
     "text": [
      " Channel Info  Total Likes\n",
      "  kyliejenner 5.740000e+10\n",
      "    cristiano 2.910000e+10\n",
      "      zendaya 2.080000e+10\n",
      "kimkardashian 1.980000e+10\n",
      " arianagrande 1.850000e+10\n",
      "   badgalriri 1.800000e+10\n",
      "     neymarjr 1.440000e+10\n",
      " justinbieber 1.400000e+10\n",
      "   nickiminaj 1.290000e+10\n",
      "      therock 1.260000e+10\n"
     ]
    }
   ],
   "source": [
    "top_10 = df.sort_values([\"Total Likes\"],ascending=False)[[\"Channel Info\",\"Total Likes\"]].head(10)\n",
    "print(top_10.to_string(index=False))"
   ]
  },
  {
   "cell_type": "markdown",
   "id": "93151a46",
   "metadata": {},
   "source": [
    "### 5.Describe the relationship between the following pairs of features using a suitable graph\n",
    "- Followers and Total Likes\n",
    "- Followers and Influence Score\n",
    "- Posts and Average likes\n",
    "- Posts and Influence Score"
   ]
  },
  {
   "cell_type": "markdown",
   "id": "a5c65697",
   "metadata": {},
   "source": [
    "#### Followers and Total Likes"
   ]
  },
  {
   "cell_type": "code",
   "execution_count": 27,
   "id": "33280d6d",
   "metadata": {},
   "outputs": [
    {
     "data": {
      "image/png": "[encoded data removed]",
      "text/plain": [
       "<Figure size 720x432 with 1 Axes>"
      ]
     },
     "metadata": {
      "needs_background": "light"
     },
     "output_type": "display_data"
    }
   ],
   "source": [
    "x=df[\"Followers\"]\n",
    "y=df[\"Total Likes\"]\n",
    "plt.figure(figsize=(10,6))\n",
    "plt.scatter(x,y,c=\"dodgerblue\",s=40,edgecolors='black')\n",
    "plt.title('Scatter Plot')\n",
    "plt.xlabel(\"Followers\")\n",
    "plt.ylabel(\"Total Likes\")\n",
    "plt.show()"
   ]
  },
  {
   "cell_type": "markdown",
   "id": "eb20ab6c",
   "metadata": {},
   "source": [
    "- positive linear relationship with few outliers is observed"
   ]
  },
  {
   "cell_type": "markdown",
   "id": "12e88124",
   "metadata": {},
   "source": [
    "#### Followers and Influence Score"
   ]
  },
  {
   "cell_type": "code",
   "execution_count": 28,
   "id": "ca9c4543",
   "metadata": {},
   "outputs": [
    {
     "data": {
      "image/png": "[encoded data removed]",
      "text/plain": [
       "<Figure size 720x432 with 1 Axes>"
      ]
     },
     "metadata": {
      "needs_background": "light"
     },
     "output_type": "display_data"
    }
   ],
   "source": [
    "x=df[\"Followers\"]\n",
    "y=df[\"Influence Score\"]\n",
    "plt.figure(figsize=(10,6))\n",
    "plt.scatter(x,y,c=\"dodgerblue\",s=40,edgecolors='black')\n",
    "plt.title('Scatter Plot')\n",
    "plt.xlabel(\"Followers\")\n",
    "plt.ylabel(\"Influence Score\")\n",
    "plt.show()"
   ]
  },
  {
   "cell_type": "markdown",
   "id": "45980d01",
   "metadata": {},
   "source": [
    "- Logarithmic relationship is observed since data value increases rapidly and then flattens out."
   ]
  },
  {
   "cell_type": "markdown",
   "id": "a86e29e7",
   "metadata": {},
   "source": [
    "#### Posts and Average likes"
   ]
  },
  {
   "cell_type": "code",
   "execution_count": 29,
   "id": "6dbb0854",
   "metadata": {},
   "outputs": [
    {
     "data": {
      "image/png": "[encoded data removed]",
      "text/plain": [
       "<Figure size 720x432 with 1 Axes>"
      ]
     },
     "metadata": {
      "needs_background": "light"
     },
     "output_type": "display_data"
    }
   ],
   "source": [
    "x=df[\"Posts\"]\n",
    "y=df[\"Avg. Likes\"]\n",
    "plt.figure(figsize=(10,6))\n",
    "plt.scatter(x,y,c=\"dodgerblue\",s=50,edgecolors='black')\n",
    "plt.title('Scatter Plot')\n",
    "plt.xlabel(\"Posts\")\n",
    "plt.ylabel(\"Average Likes\")\n",
    "plt.show()"
   ]
  },
  {
   "cell_type": "markdown",
   "id": "71c49a24",
   "metadata": {},
   "source": [
    "- Exponential relationship is observed as data value decreases at a decreasing rate."
   ]
  },
  {
   "cell_type": "markdown",
   "id": "3f7fb10b",
   "metadata": {},
   "source": [
    "#### Posts and Influence Score"
   ]
  },
  {
   "cell_type": "code",
   "execution_count": 30,
   "id": "87b75226",
   "metadata": {},
   "outputs": [
    {
     "data": {
      "image/png": "[encoded data removed]",
      "text/plain": [
       "<Figure size 720x432 with 1 Axes>"
      ]
     },
     "metadata": {
      "needs_background": "light"
     },
     "output_type": "display_data"
    }
   ],
   "source": [
    "x=df[\"Posts\"]\n",
    "y=df[\"Influence Score\"]\n",
    "plt.figure(figsize=(10,6))\n",
    "plt.scatter(x,y,c=\"dodgerblue\",s=50,edgecolors='black')\n",
    "plt.title('Scatter Plot')\n",
    "plt.xlabel(\"Posts\")\n",
    "plt.ylabel(\"Influence Score\")\n",
    "plt.show()"
   ]
  },
  {
   "cell_type": "markdown",
   "id": "19b1d35f",
   "metadata": {},
   "source": [
    "- Logarithmic relationship is observed since data value increases rapidly and then flattens out."
   ]
  }
 ],
 "metadata": {
  "kernelspec": {
   "display_name": "Python 3",
   "language": "python",
   "name": "python3"
  },
  "language_info": {
   "codemirror_mode": {
    "name": "ipython",
    "version": 3
   },
   "file_extension": ".py",
   "mimetype": "text/x-python",
   "name": "python",
   "nbconvert_exporter": "python",
   "pygments_lexer": "ipython3",
   "version": "3.8.8"
  }
 },
 "nbformat": 4,
 "nbformat_minor": 5
}
